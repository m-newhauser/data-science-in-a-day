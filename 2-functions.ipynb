{
  "nbformat": 4,
  "nbformat_minor": 0,
  "metadata": {
    "colab": {
      "name": "2-functions.ipynb",
      "provenance": [],
      "collapsed_sections": [],
      "authorship_tag": "ABX9TyPeaxx7Lm8pvG916yVYYrSk",
      "include_colab_link": true
    },
    "kernelspec": {
      "name": "python3",
      "display_name": "Python 3"
    }
  },
  "cells": [
    {
      "cell_type": "markdown",
      "metadata": {
        "id": "view-in-github",
        "colab_type": "text"
      },
      "source": [
        "<a href=\"https://colab.research.google.com/github/m-newhauser/data-science-in-a-day/blob/master/2-functions.ipynb\" target=\"_parent\"><img src=\"https://colab.research.google.com/assets/colab-badge.svg\" alt=\"Open In Colab\"/></a>"
      ]
    },
    {
      "cell_type": "markdown",
      "metadata": {
        "id": "ZkV3xrCOS4r6",
        "colab_type": "text"
      },
      "source": [
        "### Custom functions"
      ]
    },
    {
      "cell_type": "code",
      "metadata": {
        "id": "AN52O1-2K_Xy",
        "colab_type": "code",
        "colab": {
          "base_uri": "https://localhost:8080/",
          "height": 35
        },
        "outputId": "c6b88215-2f4c-41ba-8754-77d98db98636"
      },
      "source": [
        "# Let's add a single digit three times\n",
        "1 + 1 + 1"
      ],
      "execution_count": null,
      "outputs": [
        {
          "output_type": "execute_result",
          "data": {
            "text/plain": [
              "3"
            ]
          },
          "metadata": {
            "tags": []
          },
          "execution_count": 1
        }
      ]
    },
    {
      "cell_type": "code",
      "metadata": {
        "id": "6xld1MOuLCzX",
        "colab_type": "code",
        "colab": {
          "base_uri": "https://localhost:8080/",
          "height": 35
        },
        "outputId": "e75468cc-525b-4c79-925b-368bee1afafd"
      },
      "source": [
        "# Let's repeat this for numbers 2-5\n",
        "3 + 3 + 3"
      ],
      "execution_count": null,
      "outputs": [
        {
          "output_type": "execute_result",
          "data": {
            "text/plain": [
              "9"
            ]
          },
          "metadata": {
            "tags": []
          },
          "execution_count": 3
        }
      ]
    },
    {
      "cell_type": "code",
      "metadata": {
        "id": "_hUPYk7ILehD",
        "colab_type": "code",
        "colab": {}
      },
      "source": [
        "# This takes too long!"
      ],
      "execution_count": null,
      "outputs": []
    },
    {
      "cell_type": "code",
      "metadata": {
        "id": "rFNaHQ-2Lppm",
        "colab_type": "code",
        "colab": {}
      },
      "source": [
        "# Let's create a function\n",
        "\n",
        "def add_digit_three_times(digit):\n",
        "\n",
        "  result = digit + digit + digit\n",
        "\n",
        "  return result"
      ],
      "execution_count": null,
      "outputs": []
    },
    {
      "cell_type": "code",
      "metadata": {
        "id": "_wGMVQmNL7Jn",
        "colab_type": "code",
        "colab": {
          "base_uri": "https://localhost:8080/",
          "height": 35
        },
        "outputId": "47d522f8-80a5-4c0b-8f80-cdce692d0760"
      },
      "source": [
        "# Run the function\n",
        "\n",
        "add_digit_three_times(digit=7)"
      ],
      "execution_count": null,
      "outputs": [
        {
          "output_type": "execute_result",
          "data": {
            "text/plain": [
              "21"
            ]
          },
          "metadata": {
            "tags": []
          },
          "execution_count": 8
        }
      ]
    },
    {
      "cell_type": "markdown",
      "metadata": {
        "id": "08ujhEJYqJGr",
        "colab_type": "text"
      },
      "source": [
        "### Pre-existing functions"
      ]
    },
    {
      "cell_type": "code",
      "metadata": {
        "id": "hJPVzrKIprw4",
        "colab_type": "code",
        "colab": {}
      },
      "source": [
        "# Let's use a function from a package called Statistics"
      ],
      "execution_count": null,
      "outputs": []
    },
    {
      "cell_type": "code",
      "metadata": {
        "id": "1CPy9ynmp3OE",
        "colab_type": "code",
        "colab": {}
      },
      "source": [
        "# Import the statistics module\n",
        "\n",
        "import statistics"
      ],
      "execution_count": null,
      "outputs": []
    },
    {
      "cell_type": "code",
      "metadata": {
        "id": "yhZJbKnWqsH7",
        "colab_type": "code",
        "colab": {
          "base_uri": "https://localhost:8080/",
          "height": 35
        },
        "outputId": "c680b3a0-34e6-40be-91cf-ff769d230e50"
      },
      "source": [
        "(1+2+3+4+5)/5"
      ],
      "execution_count": null,
      "outputs": [
        {
          "output_type": "execute_result",
          "data": {
            "text/plain": [
              "3.0"
            ]
          },
          "metadata": {
            "tags": []
          },
          "execution_count": 10
        }
      ]
    },
    {
      "cell_type": "code",
      "metadata": {
        "id": "ry4cCQCZqStx",
        "colab_type": "code",
        "colab": {}
      },
      "source": [
        "# Make a list of numbers\n",
        "\n",
        "numbers = [1, 2, 3, 4, 5]"
      ],
      "execution_count": null,
      "outputs": []
    },
    {
      "cell_type": "code",
      "metadata": {
        "id": "cNhUwmDDqto5",
        "colab_type": "code",
        "colab": {}
      },
      "source": [
        "# Calculate the mean of numbers and save as an object\n",
        "\n",
        "mean = statistics.mean(numbers) "
      ],
      "execution_count": null,
      "outputs": []
    },
    {
      "cell_type": "code",
      "metadata": {
        "id": "1ffdH4SdqTD9",
        "colab_type": "code",
        "colab": {
          "base_uri": "https://localhost:8080/",
          "height": 35
        },
        "outputId": "54df7ab4-bda8-4793-d9b7-fdf5b7655a93"
      },
      "source": [
        "# Print the mean\n",
        "\n",
        "print(mean)"
      ],
      "execution_count": null,
      "outputs": [
        {
          "output_type": "stream",
          "text": [
            "3\n"
          ],
          "name": "stdout"
        }
      ]
    },
    {
      "cell_type": "code",
      "metadata": {
        "id": "ZB37NNVAvqvj",
        "colab_type": "code",
        "colab": {}
      },
      "source": [
        "# Let's do another example"
      ],
      "execution_count": null,
      "outputs": []
    },
    {
      "cell_type": "code",
      "metadata": {
        "id": "KQVBRJFoq5DM",
        "colab_type": "code",
        "colab": {}
      },
      "source": [
        "# Import the NumPy package\n",
        "\n",
        "import numpy as np"
      ],
      "execution_count": null,
      "outputs": []
    },
    {
      "cell_type": "code",
      "metadata": {
        "id": "qPGozLCluRy6",
        "colab_type": "code",
        "colab": {
          "base_uri": "https://localhost:8080/",
          "height": 35
        },
        "outputId": "c5036e0f-f047-4001-c8ae-b40fb226ddbc"
      },
      "source": [
        "# Use NumPy's rounding function\n",
        "\n",
        "np.round(5.2398, 2)"
      ],
      "execution_count": null,
      "outputs": [
        {
          "output_type": "execute_result",
          "data": {
            "text/plain": [
              "5.24"
            ]
          },
          "metadata": {
            "tags": []
          },
          "execution_count": 15
        }
      ]
    }
  ]
}