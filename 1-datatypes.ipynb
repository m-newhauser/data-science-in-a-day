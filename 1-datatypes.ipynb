{
  "nbformat": 4,
  "nbformat_minor": 0,
  "metadata": {
    "colab": {
      "name": "1-datatypes.ipynb",
      "provenance": [],
      "collapsed_sections": [],
      "include_colab_link": true
    },
    "kernelspec": {
      "name": "python3",
      "display_name": "Python 3"
    }
  },
  "cells": [
    {
      "cell_type": "markdown",
      "metadata": {
        "id": "view-in-github",
        "colab_type": "text"
      },
      "source": [
        "<a href=\"https://colab.research.google.com/github/m-newhauser/data-science-in-a-day/blob/master/1-datatypes.ipynb\" target=\"_parent\"><img src=\"https://colab.research.google.com/assets/colab-badge.svg\" alt=\"Open In Colab\"/></a>"
      ]
    },
    {
      "cell_type": "markdown",
      "metadata": {
        "id": "yXxZin9NJO79",
        "colab_type": "text"
      },
      "source": [
        "## Common data types"
      ]
    },
    {
      "cell_type": "code",
      "metadata": {
        "id": "UZO5YSQ0XkCP",
        "colab_type": "code",
        "colab": {}
      },
      "source": [
        "# To run the code in the cell press --> SHIFT RETURN"
      ],
      "execution_count": null,
      "outputs": []
    },
    {
      "cell_type": "markdown",
      "metadata": {
        "id": "zF_TvW-kL7XT",
        "colab_type": "text"
      },
      "source": [
        "###### Strings"
      ]
    },
    {
      "cell_type": "code",
      "metadata": {
        "id": "XXsMHvUXBfaC",
        "colab_type": "code",
        "colab": {
          "base_uri": "https://localhost:8080/",
          "height": 34
        },
        "outputId": "405d3d12-6983-4453-ec87-51696987e74d"
      },
      "source": [
        "player = 'Lionel Messi'\n",
        "\n",
        "print(player)\n"
      ],
      "execution_count": null,
      "outputs": [
        {
          "output_type": "stream",
          "text": [
            "Lionel Messi\n"
          ],
          "name": "stdout"
        }
      ]
    },
    {
      "cell_type": "markdown",
      "metadata": {
        "id": "T82EbSEpMII8",
        "colab_type": "text"
      },
      "source": [
        "#### Integers"
      ]
    },
    {
      "cell_type": "code",
      "metadata": {
        "id": "ld3zvQVaJqcQ",
        "colab_type": "code",
        "colab": {
          "base_uri": "https://localhost:8080/",
          "height": 50
        },
        "outputId": "a9e29265-6ee2-4e49-9bcc-b7b045cdc6eb"
      },
      "source": [
        "career_goals = 690\n",
        "\n",
        "print(career_goals)\n",
        "\n",
        "type(career_goals)"
      ],
      "execution_count": null,
      "outputs": [
        {
          "output_type": "stream",
          "text": [
            "690\n"
          ],
          "name": "stdout"
        },
        {
          "output_type": "execute_result",
          "data": {
            "text/plain": [
              "int"
            ]
          },
          "metadata": {
            "tags": []
          },
          "execution_count": 6
        }
      ]
    },
    {
      "cell_type": "markdown",
      "metadata": {
        "id": "MzuWj5BZMPde",
        "colab_type": "text"
      },
      "source": [
        "#### Lists"
      ]
    },
    {
      "cell_type": "code",
      "metadata": {
        "id": "dUTfPcEVB1pL",
        "colab_type": "code",
        "colab": {
          "base_uri": "https://localhost:8080/",
          "height": 34
        },
        "outputId": "de876fef-4f47-4431-ede2-423a75713d0a"
      },
      "source": [
        "football_players = ['Cristiano_Ronaldo', 'Lionel_Messi', 'Zlatan_Ibrahimovic']\n",
        "\n",
        "print (football_players)"
      ],
      "execution_count": null,
      "outputs": [
        {
          "output_type": "stream",
          "text": [
            "['Cristiano_Ronaldo', 'Lionel_Messi', 'Zlatan_Ibrahimovic']\n"
          ],
          "name": "stdout"
        }
      ]
    },
    {
      "cell_type": "markdown",
      "metadata": {
        "id": "V-SNss-QMdzM",
        "colab_type": "text"
      },
      "source": [
        "#### Dictionaries"
      ]
    },
    {
      "cell_type": "code",
      "metadata": {
        "id": "gXEsiFxtB1zc",
        "colab_type": "code",
        "colab": {
          "base_uri": "https://localhost:8080/",
          "height": 34
        },
        "outputId": "75d7d6aa-f264-4dce-b6ab-a3e4c79ec28f"
      },
      "source": [
        "lionel_messi = {\n",
        "    'player': 'Lionel_Messi',\n",
        "    'national_team': 'Argentina',\n",
        "    'club': 'FC Barcelona',\n",
        "    'career_goals': 690 ,\n",
        "}\n",
        "\n",
        "print(lionel_messi)"
      ],
      "execution_count": null,
      "outputs": [
        {
          "output_type": "stream",
          "text": [
            "{'player': 'Lionel_Messi', 'national_team': 'Argentina', 'club': 'FC Barcelona', 'career_goals': 690}\n"
          ],
          "name": "stdout"
        }
      ]
    },
    {
      "cell_type": "markdown",
      "metadata": {
        "id": "ZN6E3DLFN7VA",
        "colab_type": "text"
      },
      "source": [
        "#### DataFrames"
      ]
    },
    {
      "cell_type": "code",
      "metadata": {
        "id": "oqdHn6rIB2Ae",
        "colab_type": "code",
        "colab": {
          "base_uri": "https://localhost:8080/",
          "height": 77
        },
        "outputId": "bf91d67a-59aa-42d7-ce82-c28cbdb48908"
      },
      "source": [
        "# Import Pandas package\n",
        "import pandas as pd\n",
        "\n",
        "\n",
        "# Use Pandas' DataFrame function to create a DataFrame\n",
        "pd.DataFrame([lionel_messi])"
      ],
      "execution_count": null,
      "outputs": [
        {
          "output_type": "execute_result",
          "data": {
            "text/html": [
              "<div>\n",
              "<style scoped>\n",
              "    .dataframe tbody tr th:only-of-type {\n",
              "        vertical-align: middle;\n",
              "    }\n",
              "\n",
              "    .dataframe tbody tr th {\n",
              "        vertical-align: top;\n",
              "    }\n",
              "\n",
              "    .dataframe thead th {\n",
              "        text-align: right;\n",
              "    }\n",
              "</style>\n",
              "<table border=\"1\" class=\"dataframe\">\n",
              "  <thead>\n",
              "    <tr style=\"text-align: right;\">\n",
              "      <th></th>\n",
              "      <th>player</th>\n",
              "      <th>national_team</th>\n",
              "      <th>club</th>\n",
              "      <th>career_goals</th>\n",
              "    </tr>\n",
              "  </thead>\n",
              "  <tbody>\n",
              "    <tr>\n",
              "      <th>0</th>\n",
              "      <td>Lionel_Messi</td>\n",
              "      <td>Argentina</td>\n",
              "      <td>FC Barcelona</td>\n",
              "      <td>690</td>\n",
              "    </tr>\n",
              "  </tbody>\n",
              "</table>\n",
              "</div>"
            ],
            "text/plain": [
              "         player national_team          club  career_goals\n",
              "0  Lionel_Messi     Argentina  FC Barcelona           690"
            ]
          },
          "metadata": {
            "tags": []
          },
          "execution_count": 8
        }
      ]
    }
  ]
}